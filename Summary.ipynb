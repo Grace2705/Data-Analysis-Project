{
 "cells": [
  {
   "cell_type": "markdown",
   "metadata": {},
   "source": [
    "# Executive Summary\n"
   ]
  },
  {
   "cell_type": "markdown",
   "metadata": {},
   "source": [
    "#### Company XYZ has 3 major branche across Lagos, Abuja and Port Harcourt"
   ]
  },
  {
   "cell_type": "markdown",
   "metadata": {},
   "source": [
    "#### After analyzing the last three months in company XYZ data the following observations were made:"
   ]
  },
  {
   "cell_type": "markdown",
   "metadata": {},
   "source": [
    "- Branch C(Port Harcourt) has the lowest sales record\n",
    "- Branch A(Lagos) has the highest sales record\n"
   ]
  },
  {
   "cell_type": "markdown",
   "metadata": {},
   "source": [
    "insert image of graph"
   ]
  },
  {
   "cell_type": "markdown",
   "metadata": {},
   "source": [
    "- Of the 3 payment methods, Card payment is the least favoured method of the customers among the 3 branch while Epayment is used more often by the customers\n",
    "- In Abuja and Lagos, Epayment is the most used payment method, while in Port Harcourt, Cash is the most used payment method\n",
    "- Across the 3 branches, we observed the most used payment method for the each product line which is summarised below\n",
    "    - Food and Beverages: Cash\n",
    "    - Fashion Accessories: Epay\n",
    "    - Electronc Accessories: Cash\n",
    "    - Sport and Travel: Cash\n",
    "    - Home and Lifestyle: Epay\n",
    "    - Health and Beauty: Epay\n",
    "\n"
   ]
  },
  {
   "source": [
    "insert image of payment method and payment method for product line"
   ],
   "cell_type": "markdown",
   "metadata": {}
  },
  {
   "source": [
    "- Of all the products sold in all 3 branches, 'Fashion Accessories' has more record of sales followed closely by 'Food and Beverages' and 'Electronic Accessories'. The product with the lowest sales record is 'Health and Beauty'.\n",
    "\n",
    "- In Abuja the product line with the highet sales record is 'Fashion Accessories' and 'Sports and Travels' with the lowest being 'Food and Beverages' and 'Home and Lifestyle'.\n",
    "- In Lagos the product line with the highet sales record is 'Home and Lifestyle' with the lowest being 'Health and Beauty'.\n",
    "- In Port Harcourt the product line with the highet sales record is 'Food and Beverages' followed closely by 'Fashion Accessories', the lowest product line sales recorded are 'Sport and Travels' and 'Home and Lifestyle'"
   ],
   "cell_type": "markdown",
   "metadata": {}
  },
  {
   "source": [
    "Insert image of product line"
   ],
   "cell_type": "markdown",
   "metadata": {}
  },
  {
   "source": [
    "Abuja has the lowest average rating provided by the customers"
   ],
   "cell_type": "markdown",
   "metadata": {}
  },
  {
   "source": [],
   "cell_type": "markdown",
   "metadata": {}
  }
 ],
 "metadata": {
  "kernelspec": {
   "display_name": "Python 3",
   "language": "python",
   "name": "python3"
  },
  "language_info": {
   "codemirror_mode": {
    "name": "ipython",
    "version": 3
   },
   "file_extension": ".py",
   "mimetype": "text/x-python",
   "name": "python",
   "nbconvert_exporter": "python",
   "pygments_lexer": "ipython3",
   "version": "3.7.6"
  }
 },
 "nbformat": 4,
 "nbformat_minor": 2
}