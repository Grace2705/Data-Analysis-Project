{
 "cells": [
  {
   "cell_type": "markdown",
   "metadata": {},
   "source": [
    "# Executive Summary\n",
    "\n",
    "After an extensive analysis of the last three months in company XYZ data, below are the reports summarising the insights and observations made."
   ]
  },
  {
   "cell_type": "markdown",
   "metadata": {},
   "source": [
    "## Sales Analysis"
   ]
  },
  {
   "cell_type": "markdown",
   "metadata": {},
   "source": [
    "- Branch C(Port Harcourt) has the lowest sales record whiles Branch A(Lagos) has the highest sales record.\n",
    "\n",
    "\n",
    "- Of all the products sold in all 3 branches, `Fashion Accessories` has more record of sales followed closely by `Food and Beverages` and `Electronic Accessories`. The product with the lowest sales record is `Health and Beauty`.\n",
    "\n",
    "\n",
    "- In Abuja the product line with the highet sales record is `Fashion Accessories` and `Sports and Travels` with the lowest being `Food and Beverages` and `Home and Lifestyle`.\n",
    "\n",
    "\n",
    "- In Lagos the product line with the highet sales record is `Home and Lifestyle` with the lowest being `Health and Beauty`.\n",
    "\n",
    "\n",
    "- In Port Harcourt the product line with the highet sales record is `Food and Beverages` followed closely by `Fashion Accessories`, the lowest product line sales recorded are `Sport and Travels` and `Home and Lifestyle`\n",
    "\n",
    "### Gender\n",
    "Looking into which gender patronises what product line more, It was discovered that most of this products are purchases by females except the `Health and Beauty` product lines.\n",
    "\n",
    "During the 11th, 13th, 15th, 16th, 17th, 19th, 20th hour of the day, females buy the highest quantity of products while at the 10th and 18th hour, it was noticed that males make the highest number of purchases. At the 14th hour, it was discovered the quantity sold between the males and the females were almost equal.\n",
    "\n",
    "### Time\n",
    "- Less quantity of sales were recorded around the 10th, 15th and 18th hour.\n",
    "- The highest quantity of sales of all product lines were recorded to have occured in the 14th hour.\n",
    "- After analysing which product line has more quantity of sales during what hour, below is what was observed\n",
    "\n",
    " |Hour| Product line with highest quantity sold     |  Product line with lowest quantity sold|\n",
    " ----   |----|----\n",
    " 10      |Fashion Accessories                      |Health and Beauty\n",
    " 11      | Food and Beverages                      | Fashion Accessories\n",
    " 12      | Sports and Travels                      | Fashion Accessories\n",
    " 13      | Health and Beauty                       | Food and Beverages\n",
    " 14      | Food and Beverages                      | Home and Lifestyle\n",
    " 15      | Electronic Accessories                  | Fashion Accessories\n",
    " 16      | Fashion Accessories                     | Food and Beverages\n",
    " 17      | Home and Lifestyle                      | Sports and Travels\n",
    " 18      | Health and Beauty                       | Food and Beverages\n",
    " 19      | Home and Lifestyle                      | Fashion Accessories\n",
    " 20      | Food and Beverages                      | Home and Lifestyle\n"
   ]
  },
  {
   "cell_type": "markdown",
   "metadata": {},
   "source": [
    "## Price Analysis"
   ]
  },
  {
   "cell_type": "markdown",
   "metadata": {},
   "source": [
    "`Electronic accessories` has the lowest unit prices while `Fashion accessories` and `Sports and travel` have the highest unit prices.\n",
    "\n",
    "`Electronic accessories` has the highest quantity sold alongside `Home and lifestlye` with ` Fashion accessories` having the lowest quantity sold."
   ]
  },
  {
   "cell_type": "markdown",
   "metadata": {},
   "source": [
    "## Payment Analysis\n"
   ]
  },
  {
   "cell_type": "markdown",
   "metadata": {},
   "source": [
    "- Of the 3 payment methods,it was observed that `Card` is the least favoured method of the customers among the 3 branch while `Epay` is used more often by the customers.\n",
    "\n",
    "\n",
    "- In Abuja and Lagos, `Epay` is the most used payment method, while in Port Harcourt, `Cash` is the most used payment method.\n",
    "\n",
    "- Across the 3 branches, we observed the most used payment method for the each product line sold in the stores which is summarised below:\n",
    "\n",
    "    - Food and Beverages: Cash\n",
    "    - Fashion Accessories: Epay\n",
    "    - Electronc Accessories: Cash\n",
    "    - Sport and Travel: Cash\n",
    "    - Home and Lifestyle: Epay\n",
    "    - Health and Beauty: Epay\n",
    "\n"
   ]
  },
  {
   "cell_type": "markdown",
   "metadata": {},
   "source": [
    "- In general, among all 3 branches, the tax paid by customers paying with card is higher than those paying with Cash and Epay, with Epay being the lowest taxed.\n",
    "- In Abuja, it was observered that the highest task payers where card users with the lowest being epay\n",
    "- In Lagos, both Card and epay users pay a slightly larger amount of tax compared to Cash payers\n",
    "- In Port Harcourt, we observered that epay users payed more tax with cash payers coming in close.\n",
    "Although this could be dependent on the quantity of goods purchased and the unit price of the product.On further analysis, It was observered that the higher the quantity of good, the higher the unit price and the higher the tax."
   ]
  },
  {
   "cell_type": "code",
   "execution_count": null,
   "metadata": {},
   "outputs": [],
   "source": []
  }
 ],
 "metadata": {
  "kernelspec": {
   "display_name": "Python 3",
   "language": "python",
   "name": "python3"
  },
  "language_info": {
   "codemirror_mode": {
    "name": "ipython",
    "version": 3
   },
   "file_extension": ".py",
   "mimetype": "text/x-python",
   "name": "python",
   "nbconvert_exporter": "python",
   "pygments_lexer": "ipython3",
   "version": "3.7.6"
  }
 },
 "nbformat": 4,
 "nbformat_minor": 2
}
